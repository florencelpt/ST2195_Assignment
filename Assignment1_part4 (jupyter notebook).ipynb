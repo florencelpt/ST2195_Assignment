{
 "cells": [
  {
   "cell_type": "markdown",
   "id": "3f117d34",
   "metadata": {},
   "source": [
    "# Assignment 1 Part 4 (Jupyter Notebook)\n",
    "\n",
    "\n",
    "## Printing Integers\n",
    "\n",
    "\n",
    "### Without the use of loop "
   ]
  },
  {
   "cell_type": "code",
   "execution_count": 2,
   "id": "328f390c",
   "metadata": {},
   "outputs": [
    {
     "name": "stdout",
     "output_type": "stream",
     "text": [
      "1 2 3 4 5 6 7 8 9 10\n"
     ]
    }
   ],
   "source": [
    "print(1,2,3,4,5,6,7,8,9,10)"
   ]
  },
  {
   "cell_type": "markdown",
   "id": "2ea882d8",
   "metadata": {},
   "source": [
    "### With the use of loop\n",
    "\n",
    "\n",
    "#### Method 1"
   ]
  },
  {
   "cell_type": "code",
   "execution_count": 4,
   "id": "8a663c2f",
   "metadata": {},
   "outputs": [
    {
     "name": "stdout",
     "output_type": "stream",
     "text": [
      "1\n",
      "2\n",
      "3\n",
      "4\n",
      "5\n",
      "6\n",
      "7\n",
      "8\n",
      "9\n",
      "10\n"
     ]
    }
   ],
   "source": [
    "integers = (1,2,3,4,5,6,7,8,9,10)\n",
    "for x in integers:\n",
    "    print(x)"
   ]
  },
  {
   "cell_type": "markdown",
   "id": "530d96e4",
   "metadata": {},
   "source": [
    "#### Method 2"
   ]
  },
  {
   "cell_type": "code",
   "execution_count": 6,
   "id": "e27e58a1",
   "metadata": {},
   "outputs": [
    {
     "name": "stdout",
     "output_type": "stream",
     "text": [
      "1\n",
      "2\n",
      "3\n",
      "4\n",
      "5\n",
      "6\n",
      "7\n",
      "8\n",
      "9\n",
      "10\n"
     ]
    }
   ],
   "source": [
    "for i in range(1,11):\n",
    "    print(i)"
   ]
  },
  {
   "cell_type": "code",
   "execution_count": null,
   "id": "43261d16",
   "metadata": {},
   "outputs": [],
   "source": []
  }
 ],
 "metadata": {
  "kernelspec": {
   "display_name": "Python 3",
   "language": "python",
   "name": "python3"
  },
  "language_info": {
   "codemirror_mode": {
    "name": "ipython",
    "version": 3
   },
   "file_extension": ".py",
   "mimetype": "text/x-python",
   "name": "python",
   "nbconvert_exporter": "python",
   "pygments_lexer": "ipython3",
   "version": "3.8.8"
  }
 },
 "nbformat": 4,
 "nbformat_minor": 5
}
